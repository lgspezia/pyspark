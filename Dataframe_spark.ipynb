{
 "cells": [
  {
   "cell_type": "markdown",
   "metadata": {},
   "source": [
    "# Processando dados de filmes usando Spark Dataframe com Pyspark"
   ]
  },
  {
   "cell_type": "markdown",
   "metadata": {},
   "source": [
    "## Instituto Infnet\n",
    "### prof.: Andre O. Victor\n",
    "### aluno: Leonardo G Spezia\n"
   ]
  },
  {
   "cell_type": "markdown",
   "metadata": {},
   "source": [
    "Primeiramente Instalamos o PySpark (utlizando Python 3.12.1)"
   ]
  },
  {
   "cell_type": "code",
   "execution_count": 3,
   "metadata": {},
   "outputs": [
    {
     "name": "stdout",
     "output_type": "stream",
     "text": [
      "\u001b[33mWARNING: The directory '/Users/spezia/Library/Caches/pip' or its parent directory is not owned or is not writable by the current user. The cache has been disabled. Check the permissions and owner of that directory. If executing pip with sudo, you should use sudo's -H flag.\u001b[0m\u001b[33m\n",
      "\u001b[0mRequirement already satisfied: pyspark in /opt/miniconda3/envs/spark_env/lib/python3.12/site-packages (3.4.3)\n",
      "Requirement already satisfied: py4j==0.10.9.7 in /opt/miniconda3/envs/spark_env/lib/python3.12/site-packages (from pyspark) (0.10.9.7)\n",
      "Note: you may need to restart the kernel to use updated packages.\n"
     ]
    }
   ],
   "source": [
    "%pip install pyspark"
   ]
  },
  {
   "cell_type": "markdown",
   "metadata": {},
   "source": [
    "Fazemos as configurações iniciais"
   ]
  },
  {
   "cell_type": "code",
   "execution_count": 40,
   "metadata": {},
   "outputs": [
    {
     "name": "stdout",
     "output_type": "stream",
     "text": [
      "Trabalho de Spark\n"
     ]
    }
   ],
   "source": [
    "from pyspark import SparkContext, SparkConf\n",
    "from pyspark.sql import SparkSession\n",
    "\n",
    "conf = SparkConf()\n",
    "\n",
    "\n",
    "conf.setMaster('local').setAppName('Trabalho de Spark')\n",
    "sc = SparkContext.getOrCreate(conf)\n",
    "print(sc.appName)"
   ]
  },
  {
   "cell_type": "markdown",
   "metadata": {},
   "source": [
    "Carregamos nosso arquivo"
   ]
  },
  {
   "cell_type": "code",
   "execution_count": 41,
   "metadata": {},
   "outputs": [
    {
     "name": "stdout",
     "output_type": "stream",
     "text": [
      "/Users/spezia/Downloads/infnet/aulas-spark/trabalho/movies.csv MapPartitionsRDD[7] at textFile at NativeMethodAccessorImpl.java:0\n"
     ]
    }
   ],
   "source": [
    "pathOne = \"/Users/spezia/Downloads/infnet/aulas-spark/trabalho/\"\n",
    "fileOne = \"movies.csv\"\n",
    "conteudoRDD2 = sc.textFile(pathOne+fileOne)\n",
    "\n",
    "print(conteudoRDD2)"
   ]
  },
  {
   "cell_type": "code",
   "execution_count": 42,
   "metadata": {},
   "outputs": [
    {
     "name": "stdout",
     "output_type": "stream",
     "text": [
      "3.4.3\n",
      "3.12\n",
      "local\n",
      "<class 'pyspark.context.SparkContext'>\n"
     ]
    }
   ],
   "source": [
    "print(sc.version)\n",
    "print(sc.pythonVer)\n",
    "print(sc.master)\n",
    "print(type(sc))"
   ]
  },
  {
   "cell_type": "markdown",
   "metadata": {},
   "source": [
    "Verificamos a versao do Spark"
   ]
  },
  {
   "cell_type": "code",
   "execution_count": 46,
   "metadata": {},
   "outputs": [
    {
     "data": {
      "text/plain": [
       "'3.4.3'"
      ]
     },
     "execution_count": 46,
     "metadata": {},
     "output_type": "execute_result"
    }
   ],
   "source": [
    "spark = sc\n",
    "spark.version\n"
   ]
  },
  {
   "cell_type": "markdown",
   "metadata": {},
   "source": [
    "### Usamos o conjunto de dados movies para resolver o problema a seguir\n",
    "\n",
    "1. Encontrar o número de registros no dataframe movies\n",
    "2. Encontrar o número de registros no dataframe ratings\n",
    "3. Validar se a combinação userId e movieId é única\n",
    "4. Encontrar a classificação média e a contagem de classificações por movieId usando o dataframe ratings\n",
    "5. Encontrar os 10 melhores filmes com base nas classificações médias mais altas , utilizando instruções SQL. Considere apenas os filmes que têm pelo menos 100 classificações. Mostre as colunas movieId, title, average rating e rating count.\n",
    "6. Mostre as visualizações temporárias para a sessão Spark atual\n",
    "7. Registrar o dataframe movies e o ratings dayaframe como visualização temporária movies e ratings, respectivamente. Verificar se você consegue ver as novas visualizações temporárias que acabou de criar.\n"
   ]
  },
  {
   "cell_type": "markdown",
   "metadata": {},
   "source": [
    "Carregamos as funções do Spark para SQL, exemplo: count, avg, explode etc."
   ]
  },
  {
   "cell_type": "code",
   "execution_count": 47,
   "metadata": {},
   "outputs": [],
   "source": [
    "from pyspark.sql.functions import *"
   ]
  },
  {
   "cell_type": "markdown",
   "metadata": {},
   "source": [
    "Localização do movies dataset."
   ]
  },
  {
   "cell_type": "code",
   "execution_count": 45,
   "metadata": {},
   "outputs": [],
   "source": [
    "\n",
    "home_dir = \"/Users/spezia/Downloads/infnet/aulas-spark/trabalho/\""
   ]
  },
  {
   "cell_type": "code",
   "execution_count": 38,
   "metadata": {},
   "outputs": [
    {
     "name": "stderr",
     "output_type": "stream",
     "text": [
      "                                                                                \r"
     ]
    },
    {
     "data": {
      "text/plain": [
       "407"
      ]
     },
     "execution_count": 38,
     "metadata": {},
     "output_type": "execute_result"
    }
   ],
   "source": [
    "#contamos a quantidade de registros\n",
    "conteudoRDD2.count()"
   ]
  },
  {
   "cell_type": "code",
   "execution_count": 39,
   "metadata": {},
   "outputs": [
    {
     "data": {
      "text/plain": [
       "'Car;MPG;Cylinders;Displacement;Horsepower;Weight;Acceleration;Model;Origin'"
      ]
     },
     "execution_count": 39,
     "metadata": {},
     "output_type": "execute_result"
    }
   ],
   "source": [
    "#vamos que a primeira linha é o cabecalho\n",
    "conteudoRDD2.first()"
   ]
  },
  {
   "cell_type": "markdown",
   "metadata": {},
   "source": [
    "Cria um dataframe a partir do arquivo movies.csv "
   ]
  },
  {
   "cell_type": "code",
   "execution_count": 35,
   "metadata": {},
   "outputs": [],
   "source": [
    "movies = (spark.read.format(\"csv\").options(header = True, inferSchema = True).load(home_dir + \"movies.csv\").cache())\n",
    "# Keep the dataframe in memory for faster processing \n",
    "\n",
    "#sc.textFile(pathOne+fileOne)\n",
    "#movies = conteudoRDD2"
   ]
  },
  {
   "cell_type": "markdown",
   "metadata": {},
   "source": [
    "Mostra o esquema do dataframe movies"
   ]
  },
  {
   "cell_type": "code",
   "execution_count": null,
   "metadata": {},
   "outputs": [],
   "source": [
    "movies.printSchema()\n",
    "\n",
    "#root\n",
    "# |-- movieId: integer (nullable = true)\n",
    "# |-- title: string (nullable = true)\n",
    "# |-- genres: string (nullable = true)\n"
   ]
  },
  {
   "cell_type": "code",
   "execution_count": 6,
   "metadata": {},
   "outputs": [
    {
     "data": {
      "text/plain": [
       "[('movieId', 'int'), ('title', 'string'), ('genres', 'string')]"
      ]
     },
     "execution_count": 6,
     "metadata": {},
     "output_type": "execute_result"
    }
   ],
   "source": [
    "movies.dtypes"
   ]
  },
  {
   "cell_type": "markdown",
   "metadata": {},
   "source": [
    "Mostramos um pequeno exemplo do esquema do dataframe movies"
   ]
  },
  {
   "cell_type": "code",
   "execution_count": 7,
   "metadata": {},
   "outputs": [
    {
     "name": "stdout",
     "output_type": "stream",
     "text": [
      "+-------+--------------------+--------------------+\n",
      "|movieId|               title|              genres|\n",
      "+-------+--------------------+--------------------+\n",
      "|      1|    Toy Story (1995)|Adventure|Animati...|\n",
      "|      2|      Jumanji (1995)|Adventure|Childre...|\n",
      "|      3|Grumpier Old Men ...|      Comedy|Romance|\n",
      "|      4|Waiting to Exhale...|Comedy|Drama|Romance|\n",
      "|      5|Father of the Bri...|              Comedy|\n",
      "+-------+--------------------+--------------------+\n",
      "only showing top 5 rows\n",
      "\n"
     ]
    }
   ],
   "source": [
    "movies.show(5)"
   ]
  },
  {
   "cell_type": "markdown",
   "metadata": {},
   "source": [
    "Abaixo o numero de registros de nosso dataframe"
   ]
  },
  {
   "cell_type": "code",
   "execution_count": 8,
   "metadata": {},
   "outputs": [
    {
     "data": {
      "text/plain": [
       "10329"
      ]
     },
     "execution_count": 8,
     "metadata": {},
     "output_type": "execute_result"
    }
   ],
   "source": [
    "movies.count()"
   ]
  },
  {
   "cell_type": "markdown",
   "metadata": {},
   "source": [
    "Criamos um Dataframe de classificação usando o arquivo ratings.csv\n"
   ]
  },
  {
   "cell_type": "code",
   "execution_count": 9,
   "metadata": {},
   "outputs": [],
   "source": [
    "ratings = (spark.read.format(\"csv\")\n",
    ".options(header = True, inferSchema = True)\n",
    ".load(home_dir + \"ratings.csv\")\n",
    ".persist())"
   ]
  },
  {
   "cell_type": "markdown",
   "metadata": {},
   "source": [
    "Esquema de classificações do Dataframe"
   ]
  },
  {
   "cell_type": "code",
   "execution_count": 10,
   "metadata": {},
   "outputs": [
    {
     "name": "stdout",
     "output_type": "stream",
     "text": [
      "root\n",
      " |-- userId: integer (nullable = true)\n",
      " |-- movieId: integer (nullable = true)\n",
      " |-- rating: double (nullable = true)\n",
      " |-- timestamp: integer (nullable = true)\n",
      "\n"
     ]
    }
   ],
   "source": [
    "ratings.printSchema()"
   ]
  },
  {
   "cell_type": "markdown",
   "metadata": {},
   "source": [
    "Show a few sample values from ratings dataframe"
   ]
  },
  {
   "cell_type": "code",
   "execution_count": 11,
   "metadata": {},
   "outputs": [
    {
     "name": "stdout",
     "output_type": "stream",
     "text": [
      "+------+-------+------+----------+\n",
      "|userId|movieId|rating| timestamp|\n",
      "+------+-------+------+----------+\n",
      "|     1|     16|   4.0|1217897793|\n",
      "|     1|     24|   1.5|1217895807|\n",
      "|     1|     32|   4.0|1217896246|\n",
      "|     1|     47|   4.0|1217896556|\n",
      "|     1|     50|   4.0|1217896523|\n",
      "+------+-------+------+----------+\n",
      "only showing top 5 rows\n",
      "\n"
     ]
    }
   ],
   "source": [
    "ratings.show(5)"
   ]
  },
  {
   "cell_type": "markdown",
   "metadata": {},
   "source": [
    "\n",
    "Contamos o numero de registros do ratings"
   ]
  },
  {
   "cell_type": "code",
   "execution_count": 12,
   "metadata": {},
   "outputs": [
    {
     "data": {
      "text/plain": [
       "105339"
      ]
     },
     "execution_count": 12,
     "metadata": {},
     "output_type": "execute_result"
    }
   ],
   "source": [
    "ratings.count()"
   ]
  },
  {
   "cell_type": "markdown",
   "metadata": {},
   "source": [
    "\n",
    "Validar se a combinação movieId e ratingId é um identificador exclusivo na tabela de classificações"
   ]
  },
  {
   "cell_type": "code",
   "execution_count": 13,
   "metadata": {},
   "outputs": [
    {
     "name": "stdout",
     "output_type": "stream",
     "text": [
      "+-------+------+-----+\n",
      "|movieId|userId|count|\n",
      "+-------+------+-----+\n",
      "+-------+------+-----+\n",
      "\n"
     ]
    }
   ],
   "source": [
    "ratings.groupBy(\"movieId\", \"userId\").count().filter(\"count != 1\").show()"
   ]
  },
  {
   "cell_type": "markdown",
   "metadata": {},
   "source": [
    "Não há nenhuma combinação de userId e movieId que ocorra mais de uma vez."
   ]
  },
  {
   "cell_type": "markdown",
   "metadata": {},
   "source": [
    "\n",
    "Encontre a classificação média de cada filme para o qual há pelo menos 100 classificações. Ordene o resultado por classificação média em ordem decrescente."
   ]
  },
  {
   "cell_type": "code",
   "execution_count": 14,
   "metadata": {},
   "outputs": [
    {
     "name": "stdout",
     "output_type": "stream",
     "text": [
      "+-------+-----+------------------+\n",
      "|movieId|count|        avg_rating|\n",
      "+-------+-----+------------------+\n",
      "|   1580|  172| 3.627906976744186|\n",
      "|    471|   48|3.6666666666666665|\n",
      "|   7253|    2|               4.0|\n",
      "|   3997|   11|               2.5|\n",
      "|  32460|    1|               4.5|\n",
      "|  44022|   16|            3.3125|\n",
      "|  54190|    7| 3.357142857142857|\n",
      "|    833|   10|              2.95|\n",
      "|   1591|   33| 2.257575757575758|\n",
      "|   6357|    5|               3.6|\n",
      "|   2366|   31| 3.532258064516129|\n",
      "|   1088|   56| 3.419642857142857|\n",
      "|   1238|   12|              3.75|\n",
      "|   4519|   11|3.0454545454545454|\n",
      "|   1645|   60| 3.566666666666667|\n",
      "|   8638|   18|3.9722222222222223|\n",
      "|   3175|   73| 3.712328767123288|\n",
      "|   2122|   14|2.2142857142857144|\n",
      "|  26755|    1|               0.5|\n",
      "|   5803|    7|2.5714285714285716|\n",
      "+-------+-----+------------------+\n",
      "only showing top 20 rows\n",
      "\n"
     ]
    }
   ],
   "source": [
    "ratings_agg = (ratings\n",
    ".groupBy(col(\"movieId\"))\n",
    ".agg(\n",
    "    count(col(\"movieId\")).alias(\"count\"),\n",
    "    avg(col(\"rating\")).alias(\"avg_rating\")\n",
    "))\n",
    "\n",
    "ratings_agg.show()"
   ]
  },
  {
   "cell_type": "code",
   "execution_count": 15,
   "metadata": {},
   "outputs": [
    {
     "name": "stdout",
     "output_type": "stream",
     "text": [
      "+-------+--------------------+------------------+-----+\n",
      "|movieId|               title|        avg_rating|count|\n",
      "+-------+--------------------+------------------+-----+\n",
      "|    318|Shawshank Redempt...| 4.454545454545454|  308|\n",
      "|    858|Godfather, The (1...| 4.392857142857143|  210|\n",
      "|     50|Usual Suspects, T...| 4.328947368421052|  228|\n",
      "|   1136|Monty Python and ...|4.3019480519480515|  154|\n",
      "|    527|Schindler's List ...| 4.296370967741935|  248|\n",
      "|   1193|One Flew Over the...|4.2727272727272725|  143|\n",
      "|    608|        Fargo (1996)|4.2711442786069655|  201|\n",
      "|   2571|  Matrix, The (1999)| 4.264367816091954|  261|\n",
      "|   1221|Godfather: Part I...| 4.260714285714286|  140|\n",
      "|   1213|   Goodfellas (1990)|4.2592592592592595|  135|\n",
      "+-------+--------------------+------------------+-----+\n",
      "\n"
     ]
    }
   ],
   "source": [
    "(ratings_agg\n",
    ".alias(\"t1\")\n",
    ".join(movies.alias(\"t2\"), col(\"t1.movieId\") == col(\"t2.movieId\"))\n",
    ".filter(\"count > 100\")\n",
    ".orderBy(desc(\"avg_rating\"))\n",
    ".select(\"t1.movieId\", \"title\", \"avg_rating\", \"count\")\n",
    ".limit(10)\n",
    ".show())"
   ]
  },
  {
   "cell_type": "markdown",
   "metadata": {},
   "source": [
    " views  temporarias para essa Spark session"
   ]
  },
  {
   "cell_type": "code",
   "execution_count": 16,
   "metadata": {},
   "outputs": [
    {
     "name": "stdout",
     "output_type": "stream",
     "text": [
      "+--------+---------+-----------+\n",
      "|database|tableName|isTemporary|\n",
      "+--------+---------+-----------+\n",
      "| default|   movies|      false|\n",
      "| default|  weblogs|      false|\n",
      "+--------+---------+-----------+\n",
      "\n"
     ]
    }
   ],
   "source": [
    "sql(\"show tables\").show()"
   ]
  },
  {
   "cell_type": "code",
   "execution_count": 17,
   "metadata": {},
   "outputs": [
    {
     "name": "stdout",
     "output_type": "stream",
     "text": [
      "+--------+---------+-----------+\n",
      "|database|tableName|isTemporary|\n",
      "+--------+---------+-----------+\n",
      "| default|   movies|      false|\n",
      "| default|  weblogs|      false|\n",
      "|        |   movies|       true|\n",
      "|        |  ratings|       true|\n",
      "+--------+---------+-----------+\n",
      "\n"
     ]
    }
   ],
   "source": [
    "movies.createOrReplaceTempView(\"movies\")\n",
    "ratings.createOrReplaceTempView(\"ratings\")\n",
    "sql(\"show tables\").show()"
   ]
  },
  {
   "cell_type": "markdown",
   "metadata": {},
   "source": [
    "Usando a instrução SQL, encontramos os 10 melhores filmes com base nas classificações médias mais altas. Considerando apenas os filmes que têm pelo menos 100 classificações. Mostramos as colunas movieId, title, average rating e rating count."
   ]
  },
  {
   "cell_type": "code",
   "execution_count": 18,
   "metadata": {},
   "outputs": [
    {
     "name": "stdout",
     "output_type": "stream",
     "text": [
      "+-------+--------------------+------------------+------------+\n",
      "|movieId|               title|        avg_rating|rating_count|\n",
      "+-------+--------------------+------------------+------------+\n",
      "|    318|Shawshank Redempt...| 4.454545454545454|         308|\n",
      "|    858|Godfather, The (1...| 4.392857142857143|         210|\n",
      "|     50|Usual Suspects, T...| 4.328947368421052|         228|\n",
      "|   1136|Monty Python and ...|4.3019480519480515|         154|\n",
      "|    527|Schindler's List ...| 4.296370967741935|         248|\n",
      "|   1193|One Flew Over the...|4.2727272727272725|         143|\n",
      "|    608|        Fargo (1996)|4.2711442786069655|         201|\n",
      "|   2571|  Matrix, The (1999)| 4.264367816091954|         261|\n",
      "|   1221|Godfather: Part I...| 4.260714285714286|         140|\n",
      "|   1213|   Goodfellas (1990)|4.2592592592592595|         135|\n",
      "+-------+--------------------+------------------+------------+\n",
      "\n"
     ]
    }
   ],
   "source": [
    "sql(\"\"\"\n",
    "\n",
    "select \n",
    "    t1.movieId, \n",
    "    t1.title, \n",
    "    avg(t2.rating) avg_rating, \n",
    "    count(1) rating_count \n",
    "from movies t1 join ratings t2 on t1.movieId = t2.movieId \n",
    "group by t1.movieId, t1.title\n",
    "having rating_count >= 100\n",
    "order by avg_rating desc \n",
    "limit 10\n",
    "\n",
    "\"\"\").show()"
   ]
  },
  {
   "cell_type": "markdown",
   "metadata": {},
   "source": [
    "# Encontramos a classificação média de cada gênero"
   ]
  },
  {
   "cell_type": "code",
   "execution_count": 19,
   "metadata": {},
   "outputs": [
    {
     "name": "stdout",
     "output_type": "stream",
     "text": [
      "+------------------+-----+------------------+\n",
      "|             genre|count|        avg_rating|\n",
      "+------------------+-----+------------------+\n",
      "|         Film-Noir| 1210|3.9136363636363636|\n",
      "|               War| 5828|3.7832017844886754|\n",
      "|           Mystery| 8320| 3.652043269230769|\n",
      "|             Drama|46960|3.6502661839863713|\n",
      "|       Documentary| 1206|3.6430348258706466|\n",
      "|             Crime|18291|3.6423924334372098|\n",
      "|              IMAX| 3032| 3.641820580474934|\n",
      "|         Animation| 5966|3.6353503184713376|\n",
      "|           Musical| 4287|  3.57196174480989|\n",
      "|           Western| 2314| 3.565687121866897|\n",
      "|           Romance|19094| 3.544254739708809|\n",
      "|         Adventure|23076| 3.518027387762177|\n",
      "|           Fantasy|10889|3.5004591789879695|\n",
      "|          Thriller|29288|3.4955613220431574|\n",
      "|            Sci-Fi|16795|3.4544805001488537|\n",
      "|            Action|31205|3.4514500881269026|\n",
      "|          Children| 8098|3.4394294887626575|\n",
      "|            Comedy|38055|3.4209959269478385|\n",
      "|            Horror| 7983| 3.281097331830139|\n",
      "|(no genres listed)|    7|3.0714285714285716|\n",
      "+------------------+-----+------------------+\n",
      "\n"
     ]
    }
   ],
   "source": [
    "genre_avg_rating = (ratings.alias(\"t1\")\n",
    ".join(movies.alias(\"t2\"), col(\"t1.movieId\") == col(\"t2.movieId\"))\n",
    ".select(col(\"rating\"), explode(split(\"genres\", r\"\\|\")).alias(\"genre\"))\n",
    ".groupBy(col(\"genre\"))\n",
    ".agg(count(col(\"genre\")).alias(\"count\"), avg(\"rating\").alias(\"avg_rating\"))\n",
    ".orderBy(desc(\"avg_rating\")))\n",
    "\n",
    "genre_avg_rating.show()"
   ]
  },
  {
   "cell_type": "markdown",
   "metadata": {},
   "source": [
    "### Usando matplotlib mostre o gráfico de barras da classificação média para cada gênero"
   ]
  },
  {
   "cell_type": "markdown",
   "metadata": {},
   "source": [
    "Carregando matplotlib library"
   ]
  },
  {
   "cell_type": "code",
   "execution_count": 20,
   "metadata": {},
   "outputs": [],
   "source": [
    "import pandas as pd\n",
    "import numpy as np\n",
    "import matplotlib.pyplot as plt\n",
    "\n",
    "%matplotlib inline"
   ]
  },
  {
   "cell_type": "markdown",
   "metadata": {},
   "source": [
    "Convertendo o spark dataframe para Pandas Dataframe. "
   ]
  },
  {
   "cell_type": "code",
   "execution_count": 21,
   "metadata": {},
   "outputs": [
    {
     "data": {
      "text/html": [
       "<div>\n",
       "<style scoped>\n",
       "    .dataframe tbody tr th:only-of-type {\n",
       "        vertical-align: middle;\n",
       "    }\n",
       "\n",
       "    .dataframe tbody tr th {\n",
       "        vertical-align: top;\n",
       "    }\n",
       "\n",
       "    .dataframe thead th {\n",
       "        text-align: right;\n",
       "    }\n",
       "</style>\n",
       "<table border=\"1\" class=\"dataframe\">\n",
       "  <thead>\n",
       "    <tr style=\"text-align: right;\">\n",
       "      <th></th>\n",
       "      <th>genre</th>\n",
       "      <th>count</th>\n",
       "      <th>avg_rating</th>\n",
       "    </tr>\n",
       "  </thead>\n",
       "  <tbody>\n",
       "    <tr>\n",
       "      <th>0</th>\n",
       "      <td>Film-Noir</td>\n",
       "      <td>1210</td>\n",
       "      <td>3.913636</td>\n",
       "    </tr>\n",
       "    <tr>\n",
       "      <th>1</th>\n",
       "      <td>War</td>\n",
       "      <td>5828</td>\n",
       "      <td>3.783202</td>\n",
       "    </tr>\n",
       "    <tr>\n",
       "      <th>2</th>\n",
       "      <td>Mystery</td>\n",
       "      <td>8320</td>\n",
       "      <td>3.652043</td>\n",
       "    </tr>\n",
       "    <tr>\n",
       "      <th>3</th>\n",
       "      <td>Drama</td>\n",
       "      <td>46960</td>\n",
       "      <td>3.650266</td>\n",
       "    </tr>\n",
       "    <tr>\n",
       "      <th>4</th>\n",
       "      <td>Documentary</td>\n",
       "      <td>1206</td>\n",
       "      <td>3.643035</td>\n",
       "    </tr>\n",
       "  </tbody>\n",
       "</table>\n",
       "</div>"
      ],
      "text/plain": [
       "         genre  count  avg_rating\n",
       "0    Film-Noir   1210    3.913636\n",
       "1          War   5828    3.783202\n",
       "2      Mystery   8320    3.652043\n",
       "3        Drama  46960    3.650266\n",
       "4  Documentary   1206    3.643035"
      ]
     },
     "execution_count": 21,
     "metadata": {},
     "output_type": "execute_result"
    }
   ],
   "source": [
    "df = genre_avg_rating.toPandas()\n",
    "df.head()"
   ]
  },
  {
   "cell_type": "markdown",
   "metadata": {},
   "source": [
    "Classificação média do enredo para cada gênero"
   ]
  },
  {
   "cell_type": "code",
   "execution_count": 22,
   "metadata": {},
   "outputs": [
    {
     "data": {
      "text/plain": [
       "<matplotlib.axes._subplots.AxesSubplot at 0x7f3c6c9b6da0>"
      ]
     },
     "execution_count": 22,
     "metadata": {},
     "output_type": "execute_result"
    },
    {
     "data": {
      "image/png": "[encoded data removed]",
      "text/plain": [
       "<matplotlib.figure.Figure at 0x7f3c6ca48d68>"
      ]
     },
     "metadata": {},
     "output_type": "display_data"
    }
   ],
   "source": [
    "df.plot(\"genre\", \"avg_rating\", \"bar\", title = \"Barplot of avg rating by genre\")"
   ]
  },
  {
   "cell_type": "markdown",
   "metadata": {},
   "source": [
    "###  Convertendo o RDD para Dataframe\n",
    "Existem algumas maneiras de cobrir o RDD em um dataframe.\n",
    "A. Forneça o esquema definido usando o objeto StructType\n",
    "B. Inferir o esquema"
   ]
  },
  {
   "cell_type": "code",
   "execution_count": 65,
   "metadata": {},
   "outputs": [],
   "source": [
    "from random import random"
   ]
  },
  {
   "cell_type": "code",
   "execution_count": 66,
   "metadata": {},
   "outputs": [
    {
     "data": {
      "text/plain": [
       "[7.576205089743215e-05,\n",
       " 0.5286446509604893,\n",
       " 0.7090196027486819,\n",
       " 0.7064680098536666,\n",
       " 0.8138804138909966,\n",
       " 0.9456380937096995,\n",
       " 0.25481721212652253,\n",
       " 0.9486494217992113,\n",
       " 0.35200515066138993,\n",
       " 0.770356992832654]"
      ]
     },
     "execution_count": 66,
     "metadata": {},
     "output_type": "execute_result"
    }
   ],
   "source": [
    "rdd = sc.parallelize([random() for _ in range(10)])\n",
    "rdd.collect()"
   ]
  },
  {
   "cell_type": "code",
   "execution_count": 67,
   "metadata": {},
   "outputs": [
    {
     "name": "stdout",
     "output_type": "stream",
     "text": [
      "+--------------------+\n",
      "|                col1|\n",
      "+--------------------+\n",
      "|7.576205089743215E-5|\n",
      "|  0.5286446509604893|\n",
      "|  0.7090196027486819|\n",
      "|  0.7064680098536666|\n",
      "|  0.8138804138909966|\n",
      "|  0.9456380937096995|\n",
      "| 0.25481721212652253|\n",
      "|  0.9486494217992113|\n",
      "| 0.35200515066138993|\n",
      "|   0.770356992832654|\n",
      "+--------------------+\n",
      "\n"
     ]
    }
   ],
   "source": [
    "from pyspark.sql import Row\n",
    "rddRow = rdd.map(lambda f: Row(f))\n",
    "spark.createDataFrame(rddRow).toDF(\"col1\").show()"
   ]
  },
  {
   "cell_type": "code",
   "execution_count": 68,
   "metadata": {
    "scrolled": false
   },
   "outputs": [
    {
     "name": "stdout",
     "output_type": "stream",
     "text": [
      "+--------------------+\n",
      "|                col1|\n",
      "+--------------------+\n",
      "|7.576205089743215E-5|\n",
      "|  0.5286446509604893|\n",
      "|  0.7090196027486819|\n",
      "|  0.7064680098536666|\n",
      "|  0.8138804138909966|\n",
      "|  0.9456380937096995|\n",
      "| 0.25481721212652253|\n",
      "|  0.9486494217992113|\n",
      "| 0.35200515066138993|\n",
      "|   0.770356992832654|\n",
      "+--------------------+\n",
      "\n"
     ]
    }
   ],
   "source": [
    "rddRow = rdd.map(lambda f: Row(col1 = f))\n",
    "df = spark.createDataFrame(rddRow)\n",
    "df.show()"
   ]
  },
  {
   "cell_type": "markdown",
   "metadata": {},
   "source": [
    "#### Fornecendo o esquema para converter o RDD em um dataframe"
   ]
  },
  {
   "cell_type": "markdown",
   "metadata": {},
   "source": [
    "Por padrão, o Spark tentará inferir os nomes das colunas e os tipos por amostragem do objeto de linha RDD. Para controlar esse processo, podemos fornecer o esquema programaticamente."
   ]
  },
  {
   "cell_type": "code",
   "execution_count": 69,
   "metadata": {},
   "outputs": [
    {
     "name": "stdout",
     "output_type": "stream",
     "text": [
      "root\n",
      " |-- c1: double (nullable = true)\n",
      " |-- c2: string (nullable = true)\n",
      " |-- c3: null (nullable = true)\n",
      "\n"
     ]
    }
   ],
   "source": [
    "# Schema created by schema inferencing\n",
    "rdd = sc.parallelize([\n",
    "    Row(c1 = 1.0, c2 = None, c3 = None), \n",
    "    Row(c1 = None, c2= \"Apple\", c3 = None)])\n",
    "df = spark.createDataFrame(rdd, samplingRatio=1.0) # samplingRatio = 1 forces to see all records\n",
    "df.printSchema()"
   ]
  },
  {
   "cell_type": "markdown",
   "metadata": {},
   "source": [
    "Agora,  já conhecemos o esquema do registro - ele deve ter três colunas. C1, C2 e C3 dos tipos float, string e date, respectivamente."
   ]
  },
  {
   "cell_type": "code",
   "execution_count": 70,
   "metadata": {},
   "outputs": [],
   "source": [
    "from pyspark.sql.types import *"
   ]
  },
  {
   "cell_type": "code",
   "execution_count": 71,
   "metadata": {},
   "outputs": [],
   "source": [
    "schema = StructType([\n",
    "    StructField(\"c1\", FloatType()),\n",
    "    StructField(\"c2\", StringType()),\n",
    "    StructField(\"c3\", DateType()),\n",
    "])"
   ]
  },
  {
   "cell_type": "code",
   "execution_count": 72,
   "metadata": {},
   "outputs": [
    {
     "name": "stdout",
     "output_type": "stream",
     "text": [
      "root\n",
      " |-- c1: float (nullable = true)\n",
      " |-- c2: string (nullable = true)\n",
      " |-- c3: date (nullable = true)\n",
      "\n"
     ]
    }
   ],
   "source": [
    "df = spark.createDataFrame(rdd, schema)\n",
    "df.printSchema()"
   ]
  },
  {
   "cell_type": "code",
   "execution_count": 73,
   "metadata": {
    "scrolled": false
   },
   "outputs": [
    {
     "name": "stdout",
     "output_type": "stream",
     "text": [
      "+----+-----+----+\n",
      "|  c1|   c2|  c3|\n",
      "+----+-----+----+\n",
      "| 1.0| null|null|\n",
      "|null|Apple|null|\n",
      "+----+-----+----+\n",
      "\n"
     ]
    }
   ],
   "source": [
    "df.show()"
   ]
  },
  {
   "cell_type": "code",
   "execution_count": 74,
   "metadata": {},
   "outputs": [
    {
     "data": {
      "text/plain": [
       "['movieId,title,genres',\n",
       " '1,Toy Story (1995),Adventure|Animation|Children|Comedy|Fantasy',\n",
       " '2,Jumanji (1995),Adventure|Children|Fantasy',\n",
       " '3,Grumpier Old Men (1995),Comedy|Romance',\n",
       " '4,Waiting to Exhale (1995),Comedy|Drama|Romance',\n",
       " '5,Father of the Bride Part II (1995),Comedy',\n",
       " '6,Heat (1995),Action|Crime|Thriller',\n",
       " '7,Sabrina (1995),Comedy|Romance',\n",
       " '8,Tom and Huck (1995),Adventure|Children',\n",
       " '9,Sudden Death (1995),Action']"
      ]
     },
     "execution_count": 74,
     "metadata": {},
     "output_type": "execute_result"
    }
   ],
   "source": [
    "moviesRdd = sc.textFile(\"movielens/movies.csv\")\n",
    "moviesRdd.take(10)"
   ]
  },
  {
   "cell_type": "code",
   "execution_count": 75,
   "metadata": {},
   "outputs": [
    {
     "data": {
      "text/plain": [
       "['11,\"American President, The (1995)\",Comedy|Drama|Romance',\n",
       " '29,\"City of Lost Children, The (Cité des enfants perdus, La) (1995)\",Adventure|Drama|Fantasy|Mystery|Sci-Fi',\n",
       " '40,\"Cry, the Beloved Country (1995)\",Drama',\n",
       " '50,\"Usual Suspects, The (1995)\",Crime|Mystery|Thriller',\n",
       " '54,\"Big Green, The (1995)\",Children|Comedy',\n",
       " '58,\"Postman, The (Postino, Il) (1994)\",Comedy|Drama|Romance',\n",
       " '59,\"Confessional, The (Confessionnal, Le) (1995)\",Drama|Mystery',\n",
       " '60,\"Indian in the Cupboard, The (1995)\",Adventure|Children|Fantasy',\n",
       " '73,\"Misérables, Les (1995)\",Drama|War',\n",
       " '78,\"Crossing Guard, The (1995)\",Action|Crime|Drama|Thriller']"
      ]
     },
     "execution_count": 75,
     "metadata": {},
     "output_type": "execute_result"
    }
   ],
   "source": [
    "moviesRdd.filter(lambda line: len(line.split(\",\")) != 3).take(10)"
   ]
  },
  {
   "cell_type": "code",
   "execution_count": 76,
   "metadata": {
    "scrolled": false
   },
   "outputs": [
    {
     "name": "stdout",
     "output_type": "stream",
     "text": [
      "+-------+----------------------------------+-------------------------------------------+\n",
      "|movieId|title                             |genre                                      |\n",
      "+-------+----------------------------------+-------------------------------------------+\n",
      "|1      |Toy Story (1995)                  |Adventure|Animation|Children|Comedy|Fantasy|\n",
      "|2      |Jumanji (1995)                    |Adventure|Children|Fantasy                 |\n",
      "|3      |Grumpier Old Men (1995)           |Comedy|Romance                             |\n",
      "|4      |Waiting to Exhale (1995)          |Comedy|Drama|Romance                       |\n",
      "|5      |Father of the Bride Part II (1995)|Comedy                                     |\n",
      "|6      |Heat (1995)                       |Action|Crime|Thriller                      |\n",
      "|7      |Sabrina (1995)                    |Comedy|Romance                             |\n",
      "|8      |Tom and Huck (1995)               |Adventure|Children                         |\n",
      "|9      |Sudden Death (1995)               |Action                                     |\n",
      "|10     |GoldenEye (1995)                  |Action|Adventure|Thriller                  |\n",
      "+-------+----------------------------------+-------------------------------------------+\n",
      "only showing top 10 rows\n",
      "\n"
     ]
    }
   ],
   "source": [
    "from io import StringIO\n",
    "import csv\n",
    "from pyspark.sql.types import Row\n",
    "\n",
    "def parse_movie(line):\n",
    "    tokens = [v for v in csv.reader(StringIO(line), delimiter=',')][0]\n",
    "    fields = tuple(tokens)\n",
    "    return Row(*tokens)\n",
    "\n",
    "moviesCleanRdd = (moviesRdd\n",
    "                  .filter(lambda line: not line.startswith(\"movieId\"))\n",
    "                  .map(parse_movie)\n",
    "                 )\n",
    "df = moviesCleanRdd.toDF().toDF(\"movieId\", \"title\", \"genre\")\n",
    "df.show(10, False) "
   ]
  },
  {
   "cell_type": "code",
   "execution_count": 77,
   "metadata": {},
   "outputs": [],
   "source": [
    "schema = StructType([\n",
    "    StructField(\"movieId\", StringType()),\n",
    "    StructField(\"title\", StringType()),\n",
    "    StructField(\"genres\", StringType()),\n",
    "])"
   ]
  },
  {
   "cell_type": "code",
   "execution_count": 78,
   "metadata": {
    "scrolled": false
   },
   "outputs": [
    {
     "name": "stdout",
     "output_type": "stream",
     "text": [
      "+-------+----------------------------------+-------------------------------------------+\n",
      "|movieId|title                             |genres                                     |\n",
      "+-------+----------------------------------+-------------------------------------------+\n",
      "|1      |Toy Story (1995)                  |Adventure|Animation|Children|Comedy|Fantasy|\n",
      "|2      |Jumanji (1995)                    |Adventure|Children|Fantasy                 |\n",
      "|3      |Grumpier Old Men (1995)           |Comedy|Romance                             |\n",
      "|4      |Waiting to Exhale (1995)          |Comedy|Drama|Romance                       |\n",
      "|5      |Father of the Bride Part II (1995)|Comedy                                     |\n",
      "|6      |Heat (1995)                       |Action|Crime|Thriller                      |\n",
      "|7      |Sabrina (1995)                    |Comedy|Romance                             |\n",
      "|8      |Tom and Huck (1995)               |Adventure|Children                         |\n",
      "|9      |Sudden Death (1995)               |Action                                     |\n",
      "|10     |GoldenEye (1995)                  |Action|Adventure|Thriller                  |\n",
      "+-------+----------------------------------+-------------------------------------------+\n",
      "only showing top 10 rows\n",
      "\n"
     ]
    }
   ],
   "source": [
    "spark.createDataFrame(moviesCleanRdd, schema).show(10, False)"
   ]
  },
  {
   "cell_type": "markdown",
   "metadata": {},
   "source": [
    "# Tamanho do dataframe in cache\n",
    "\n",
    "Armazenamos em cache o stocks.csv no formato RDD e fazemos o mesmo no formato Dataframe e compare a utilização da memória."
   ]
  },
  {
   "cell_type": "code",
   "execution_count": 87,
   "metadata": {},
   "outputs": [
    {
     "data": {
      "text/plain": [
       "1857093"
      ]
     },
     "execution_count": 87,
     "metadata": {},
     "output_type": "execute_result"
    }
   ],
   "source": [
    "stocksRdd = sc.textFile(\"stocks\")\n",
    "stocksRdd.cache().count()"
   ]
  },
  {
   "cell_type": "markdown",
   "metadata": {},
   "source": [
    "Verificamos a tabela de armazenamento no Spark Web UI.  Podemos encontrar o Spark Web UI  abaixo."
   ]
  },
  {
   "cell_type": "code",
   "execution_count": 88,
   "metadata": {},
   "outputs": [
    {
     "data": {
      "text/plain": [
       "'http://quickstart.cloudera:4041'"
      ]
     },
     "execution_count": 88,
     "metadata": {},
     "output_type": "execute_result"
    }
   ],
   "source": [
    "sc.uiWebUrl"
   ]
  },
  {
   "cell_type": "code",
   "execution_count": 89,
   "metadata": {},
   "outputs": [
    {
     "data": {
      "text/plain": [
       "1857092"
      ]
     },
     "execution_count": 89,
     "metadata": {},
     "output_type": "execute_result"
    }
   ],
   "source": [
    "stocksDf = spark.read.option(\"header\", True).option(\"inferSchema\", True).csv(\"stocks\")\n",
    "stocksDf.cache()\n",
    "stocksDf.count()"
   ]
  },
  {
   "cell_type": "code",
   "execution_count": null,
   "metadata": {},
   "outputs": [],
   "source": []
  }
 ],
 "metadata": {
  "kernelspec": {
   "display_name": "Python 3",
   "language": "python",
   "name": "python3"
  },
  "language_info": {
   "codemirror_mode": {
    "name": "ipython",
    "version": 3
   },
   "file_extension": ".py",
   "mimetype": "text/x-python",
   "name": "python",
   "nbconvert_exporter": "python",
   "pygments_lexer": "ipython3",
   "version": "3.12.1"
  }
 },
 "nbformat": 4,
 "nbformat_minor": 2
}
